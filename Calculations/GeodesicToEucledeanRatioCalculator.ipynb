{
 "cells": [
  {
   "cell_type": "markdown",
   "metadata": {},
   "source": [
    "In this section, we calculate the maximum of the **Geodesic - Euclidean distance** for every $\\delta_1$ and $\\delta_2$, as well as for (|$\\theta_1$ - $\\theta_2$|). For each $\\delta_1$ and $\\delta_2$, the code provides the output corresponding to any difference $(|\\theta_1 - \\theta_2|)$, where the value of $x$ is set equal to $(\\theta_1 - \\theta_2)$."
   ]
  },
  {
   "cell_type": "code",
   "execution_count": 1,
   "metadata": {},
   "outputs": [],
   "source": [
    "import numpy as np\n",
    "import sys\n",
    "import matplotlib.pyplot as plt"
   ]
  },
  {
   "cell_type": "code",
   "execution_count": 2,
   "metadata": {},
   "outputs": [],
   "source": [
    "def calculateSubtract(delta_1, delta_2):\n",
    "    x = np.linspace(0, np.pi, 1000)\n",
    "    numerator = 2 * np.arcsin((np.sqrt(np.sin((delta_1 - delta_2) / 2) ** 2 + np.sin(delta_1) * np.sin(delta_2) * np.sin(x / 2) ** 2)))\n",
    "    denominator = np.sqrt(delta_1 ** 2 + delta_2 ** 2 - 2 * delta_1 * delta_2 * np.cos(x))\n",
    "    return np.max(numerator - denominator)"
   ]
  },
  {
   "cell_type": "markdown",
   "metadata": {},
   "source": [
    "Additionally, the result of the calculation is always less than or equal to zero $\\leq 0 $."
   ]
  },
  {
   "cell_type": "code",
   "execution_count": 3,
   "metadata": {},
   "outputs": [
    {
     "name": "stdout",
     "output_type": "stream",
     "text": [
      "1e-10\n"
     ]
    }
   ],
   "source": [
    "import numpy as np\n",
    "\n",
    "changes_range = 0.001\n",
    "delta_1_range = np.arange(0, np.pi / 2, changes_range)\n",
    "delta_2_range = np.arange(0, np.pi / 2, changes_range)\n",
    "\n",
    "max_value = 0.0000000001 #max_value is set to 1e-10 to prevent precision issues\n",
    "for i, delta_1 in enumerate(delta_1_range):\n",
    "    for j, delta_2 in enumerate(delta_2_range):\n",
    "        max_value = max(max_value, calculateSubtract(delta_1, delta_2))\n",
    "\n",
    "print(max_value)"
   ]
  }
 ],
 "metadata": {
  "kernelspec": {
   "display_name": "Python 3",
   "language": "python",
   "name": "python3"
  },
  "language_info": {
   "codemirror_mode": {
    "name": "ipython",
    "version": 3
   },
   "file_extension": ".py",
   "mimetype": "text/x-python",
   "name": "python",
   "nbconvert_exporter": "python",
   "pygments_lexer": "ipython3",
   "version": "3.11.4"
  }
 },
 "nbformat": 4,
 "nbformat_minor": 2
}
